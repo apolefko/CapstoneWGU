{
 "cells": [
  {
   "cell_type": "markdown",
   "id": "98201591-f50f-4ed6-9339-0e2d3670ae85",
   "metadata": {
    "tags": []
   },
   "source": [
    "<h1>GameScores, INC. Ratings Prediction</h1>"
   ]
  },
  {
   "cell_type": "markdown",
   "id": "4a080700-a461-4a57-a35d-95c3e0a2ced5",
   "metadata": {},
   "source": [
    "<p>Welcome to the GameScores, INC. application for ratings prediction with linear regression. There are many game companies, or developers, and this model will help predict ratings based on wishlist values from the main data set and can be trained with Nintendo, Sony, or \"all\" games (from the data set 1980-2023).</p>"
   ]
  },
  {
   "cell_type": "markdown",
   "id": "2dacdd41-7923-4d4f-bfd5-2200c4a15084",
   "metadata": {
    "tags": []
   },
   "source": [
    "<p>Please make sure numpy, pandas, matplotlib, and scikit-learn are installed.</p>\n",
    "<p>For matplotlib, you'll need \"pip install matplotlib\"</p>\n",
    "<p>For scikit-learn, you'll need \"pip install scikit-learn\"</p>"
   ]
  },
  {
   "cell_type": "code",
   "execution_count": 3,
   "id": "9557e066-53a0-4124-a2b4-292b21f4b9e4",
   "metadata": {
    "tags": []
   },
   "outputs": [],
   "source": [
    "import numpy as np\n",
    "import pandas as pd\n",
    "from matplotlib import pyplot\n",
    "from pandas.plotting import scatter_matrix\n",
    "from sklearn.linear_model import LinearRegression\n",
    "from sklearn.model_selection import train_test_split"
   ]
  },
  {
   "cell_type": "code",
   "execution_count": 5,
   "id": "d858b18d-8fcb-4427-938f-8892cf9f7ff6",
   "metadata": {
    "tags": []
   },
   "outputs": [],
   "source": [
    "# GAMESNoDup.csv had any games with BLANK ratings and BLANK team, removed\n",
    "myDataframe = pd.read_csv(\"gamesNoDup.csv\")\n",
    "filterByNintendo = myDataframe.loc[myDataframe['Team'].str.contains('Nintendo')]\n",
    "# print(filterByNintendo)\n",
    "filterBySony = myDataframe.loc[myDataframe['Team'].str.contains('Sony')]\n",
    "# print(filterBySony)"
   ]
  },
  {
   "cell_type": "code",
   "execution_count": null,
   "id": "7632c716-eb34-4655-86d6-dfd7dd39ea90",
   "metadata": {},
   "outputs": [],
   "source": []
  },
  {
   "cell_type": "code",
   "execution_count": null,
   "id": "4180ab76-d5b6-4bfb-b131-73dcc1a558ab",
   "metadata": {},
   "outputs": [],
   "source": []
  },
  {
   "cell_type": "code",
   "execution_count": null,
   "id": "82a4f913-1bbb-4679-94c7-6d396f4a8946",
   "metadata": {},
   "outputs": [],
   "source": []
  },
  {
   "cell_type": "code",
   "execution_count": null,
   "id": "93d71ea5-6d44-46ca-9975-2191afd8dc91",
   "metadata": {},
   "outputs": [],
   "source": []
  }
 ],
 "metadata": {
  "kernelspec": {
   "display_name": "Python 3 (ipykernel)",
   "language": "python",
   "name": "python3"
  },
  "language_info": {
   "codemirror_mode": {
    "name": "ipython",
    "version": 3
   },
   "file_extension": ".py",
   "mimetype": "text/x-python",
   "name": "python",
   "nbconvert_exporter": "python",
   "pygments_lexer": "ipython3",
   "version": "3.10.4"
  }
 },
 "nbformat": 4,
 "nbformat_minor": 5
}
